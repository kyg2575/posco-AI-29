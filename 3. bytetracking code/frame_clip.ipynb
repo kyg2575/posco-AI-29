{
  "nbformat": 4,
  "nbformat_minor": 0,
  "metadata": {
    "colab": {
      "provenance": []
    },
    "kernelspec": {
      "name": "python3",
      "display_name": "Python 3"
    },
    "language_info": {
      "name": "python"
    }
  },
  "cells": [
    {
      "cell_type": "code",
      "source": [
        "# 1-1. Colab에 필요한 라이브러리 설치\n",
        "!pip install -q ultralytics opencv-python-headless numpy cython_bbox loguru lap\n",
        "\n",
        "# 1-2. ByteTrack 코드 클론 (필요 시)\n",
        "!git clone https://github.com/ifzhang/ByteTrack.git\n",
        "!pip install -q -r ByteTrack/requirements.txt"
      ],
      "metadata": {
        "colab": {
          "base_uri": "https://localhost:8080/"
        },
        "id": "p9vbqVgIYfCH",
        "outputId": "b25787d6-1b2c-436e-f8bd-80974094b5a0"
      },
      "execution_count": null,
      "outputs": [
        {
          "output_type": "stream",
          "name": "stdout",
          "text": [
            "fatal: destination path 'ByteTrack' already exists and is not an empty directory.\n",
            "  Preparing metadata (setup.py) ... \u001b[?25l\u001b[?25hdone\n",
            "  Installing build dependencies ... \u001b[?25l\u001b[?25hdone\n",
            "  Getting requirements to build wheel ... \u001b[?25l\u001b[?25hdone\n",
            "  Installing backend dependencies ... \u001b[?25l\u001b[?25hdone\n",
            "  Preparing metadata (pyproject.toml) ... \u001b[?25l\u001b[?25hdone\n",
            "\u001b[31mERROR: Could not find a version that satisfies the requirement onnxruntime==1.8.0 (from versions: 1.15.0, 1.15.1, 1.16.0, 1.16.1, 1.16.2, 1.16.3, 1.17.0, 1.17.1, 1.17.3, 1.18.0, 1.18.1, 1.19.0, 1.19.2, 1.20.0, 1.20.1, 1.21.0, 1.21.1)\u001b[0m\u001b[31m\n",
            "\u001b[0m\u001b[31mERROR: No matching distribution found for onnxruntime==1.8.0\u001b[0m\u001b[31m\n",
            "\u001b[0m"
          ]
        }
      ]
    },
    {
      "cell_type": "code",
      "source": [
        "import sys\n",
        "# ByteTrack 경로를 파이썬 모듈 검색 경로에 추가\n",
        "sys.path.append('/content/ByteTrack')"
      ],
      "metadata": {
        "id": "EM-x7junYe29"
      },
      "execution_count": null,
      "outputs": []
    },
    {
      "cell_type": "code",
      "execution_count": null,
      "metadata": {
        "colab": {
          "base_uri": "https://localhost:8080/"
        },
        "id": "WiML63HCtnd0",
        "outputId": "8159f42f-5525-4167-fa7e-136b9d2b5a2c"
      },
      "outputs": [
        {
          "output_type": "stream",
          "name": "stdout",
          "text": [
            "✅ 원본 5FPS 영상과 트래킹 영상, 이미지, CSV가 모두 생성되었습니다.\n"
          ]
        }
      ],
      "source": [
        "import cv2\n",
        "import numpy as np\n",
        "import csv\n",
        "import os\n",
        "from types import SimpleNamespace\n",
        "from ultralytics import YOLO\n",
        "from yolox.tracker.byte_tracker import BYTETracker\n",
        "\n",
        "# -- 설정 --\n",
        "INPUT_VIDEO     = \"/content/60프레임.mp4\"\n",
        "YOLO_WEIGHTS    = \"/content/best (3).pt\"\n",
        "TRACKED_OUTPUT  = \"/content/output_4fps_tracked.mp4\"\n",
        "RAW_OUTPUT      = \"/content/output_4fps_raw.mp4\"   # ★ 원본 5FPS 영상\n",
        "CSV_OUTPUT      = \"/content/tracking_coords.csv\"\n",
        "DETECTED_DIR    = \"/content/detected_frames\"\n",
        "\n",
        "# 임계값 및 파라미터\n",
        "CONF_THRESH  = 0.1    # 낮춰서 검출 보장\n",
        "TRACK_BUFFER = 50     # lost 상태 유지 프레임 수\n",
        "MATCH_THRESH = 0.1    # IoU 매칭 완화\n",
        "FPS_TARGET   = 4      # 타깃 FPS\n",
        "\n",
        "# NumPy float alias (ByteTracker 호환)\n",
        "np.float = float\n",
        "\n",
        "# 출력 디렉토리 준비\n",
        "os.makedirs(DETECTED_DIR, exist_ok=True)\n",
        "\n",
        "# -- 모델 및 트래커 초기화 --\n",
        "model = YOLO(YOLO_WEIGHTS)\n",
        "args  = SimpleNamespace(\n",
        "    track_thresh=CONF_THRESH,\n",
        "    track_buffer=TRACK_BUFFER,\n",
        "    match_thresh=MATCH_THRESH,\n",
        "    mot20=False\n",
        ")\n",
        "tracker = BYTETracker(args, frame_rate=FPS_TARGET)\n",
        "\n",
        "# -- CSV 파일 열기 및 헤더 작성 --\n",
        "with open(CSV_OUTPUT, mode='w', newline='') as csv_file:\n",
        "    writer = csv.writer(csv_file)\n",
        "    writer.writerow([\"frame\", \"track_id\", \"x1\", \"y1\", \"x2\", \"y2\", \"center_x\", \"center_y\"])\n",
        "\n",
        "    # -- 비디오 입출력 설정 --\n",
        "    cap      = cv2.VideoCapture(INPUT_VIDEO)\n",
        "    orig_fps = cap.get(cv2.CAP_PROP_FPS)\n",
        "    width    = int(cap.get(cv2.CAP_PROP_FRAME_WIDTH))\n",
        "    height   = int(cap.get(cv2.CAP_PROP_FRAME_HEIGHT))\n",
        "    interval = max(int(orig_fps // FPS_TARGET), 1)\n",
        "    fourcc   = cv2.VideoWriter_fourcc(*\"mp4v\")\n",
        "\n",
        "    # 트래킹된 영상용 Writer\n",
        "    out_tracked = cv2.VideoWriter(TRACKED_OUTPUT, fourcc, FPS_TARGET, (width, height))\n",
        "    # 원본 5FPS 영상용 Writer\n",
        "    out_raw     = cv2.VideoWriter(RAW_OUTPUT,     fourcc, FPS_TARGET, (width, height))\n",
        "\n",
        "    frame_idx = 0\n",
        "    while True:\n",
        "        ret, frame = cap.read()\n",
        "        if not ret:\n",
        "            break\n",
        "\n",
        "        # 5FPS에 맞춰 프레임 샘플링\n",
        "        if frame_idx % interval == 0:\n",
        "            # -- 1) 원본 프레임(샘플링된) 저장\n",
        "            out_raw.write(frame)\n",
        "\n",
        "            # -- 2) YOLO 검출 & ByteTrack 적용 --\n",
        "            results = model.predict(source=frame, conf=CONF_THRESH, verbose=False)\n",
        "            dets = []\n",
        "            for box in results[0].boxes:\n",
        "                x1, y1, x2, y2 = box.xyxy[0].cpu().numpy()\n",
        "                score         = float(box.conf[0].cpu())\n",
        "                dets.append([x1, y1, x2 - x1, y2 - y1, score])\n",
        "\n",
        "            dets_array = np.array(dets, dtype=np.float32) if dets else np.zeros((0, 5), dtype=np.float32)\n",
        "\n",
        "            if dets_array.shape[0] > 0:\n",
        "                online_targets = tracker.update(dets_array, (height, width), (height, width))\n",
        "\n",
        "                for t in online_targets:\n",
        "                    x1, y1, x2, y2 = map(int, t.tlbr)\n",
        "                    track_id       = t.track_id\n",
        "                    cx = (x1 + x2) / 2\n",
        "                    cy = (y1 + y2) / 2\n",
        "\n",
        "                    cv2.rectangle(frame, (x1, y1), (x2, y2), (0, 255, 0), 2)\n",
        "                    cv2.putText(frame, f\"ID {track_id}\", (x1, y1 - 10),\n",
        "                                cv2.FONT_HERSHEY_SIMPLEX, 0.8, (0, 255, 0), 2)\n",
        "\n",
        "                    writer.writerow([frame_idx, track_id, x1, y1, x2, y2, cx, cy])\n",
        "\n",
        "                # 트래킹된 프레임만 저장\n",
        "                out_tracked.write(frame)\n",
        "                img_path = os.path.join(DETECTED_DIR, f\"frame_{frame_idx}.jpg\")\n",
        "                cv2.imwrite(img_path, frame)\n",
        "\n",
        "        frame_idx += 1\n",
        "\n",
        "    cap.release()\n",
        "    out_tracked.release()\n",
        "    out_raw.release()\n",
        "\n",
        "print(\"✅ 원본 5FPS 영상과 트래킹 영상, 이미지, CSV가 모두 생성되었습니다.\")"
      ]
    },
    {
      "cell_type": "code",
      "source": [
        "import cv2\n",
        "import numpy as np\n",
        "import csv\n",
        "# numpy float alias for ByteTracker compatibility\n",
        "np.float = float\n",
        "from types import SimpleNamespace\n",
        "from ultralytics import YOLO\n",
        "from yolox.tracker.byte_tracker import BYTETracker\n",
        "\n",
        "# ===== 설정 =====\n",
        "INPUT_VIDEO  = \"/content/60프레임.mp4\"\n",
        "OUTPUT_VIDEO = \"/content/output_2fps_tracked.mp4\"\n",
        "CSV_OUTPUT   = \"/content/tracking_coords.csv\"\n",
        "YOLO_WEIGHTS = \"/content/best (3).pt\"\n",
        "TARGET_FPS   = 2      # 최종 출력 FPS\n",
        "\n",
        "# ===== 비디오 정보 읽기 =====\n",
        "cap = cv2.VideoCapture(INPUT_VIDEO)\n",
        "orig_fps = cap.get(cv2.CAP_PROP_FPS)\n",
        "width    = int(cap.get(cv2.CAP_PROP_FRAME_WIDTH))\n",
        "height   = int(cap.get(cv2.CAP_PROP_FRAME_HEIGHT))\n",
        "# 샘플링 간격 계산 (예: 60fps -> 2fps 이면 30)\n",
        "interval = max(int(orig_fps // TARGET_FPS), 1)\n",
        "\n",
        "# ===== 모델 및 트래커 초기화 =====\n",
        "model = YOLO(YOLO_WEIGHTS)\n",
        "tracker_args = SimpleNamespace(\n",
        "    track_thresh=0.1,    # 낮춘 탐지 임계값\n",
        "    track_buffer=50,     # lost 상태 유지 프레임 수\n",
        "    match_thresh=0.1,    # 낮춘 IoU 매칭 임계값\n",
        "    mot20=False\n",
        ")\n",
        "# ByteTracker에 원본 FPS를 전달\n",
        "tracker = BYTETracker(tracker_args, frame_rate=int(orig_fps))\n",
        "\n",
        "# ===== 출력 비디오 설정 =====\n",
        "fourcc = cv2.VideoWriter_fourcc(*\"mp4v\")\n",
        "out   = cv2.VideoWriter(OUTPUT_VIDEO, fourcc, TARGET_FPS, (width, height))\n",
        "\n",
        "# ===== CSV 파일 준비 =====\n",
        "csv_file = open(CSV_OUTPUT, mode='w', newline='')\n",
        "csv_writer = csv.writer(csv_file)\n",
        "csv_writer.writerow([\n",
        "    \"orig_frame\", \"new_frame\", \"time_sec\",\n",
        "    \"track_id\", \"x1\", \"y1\", \"x2\", \"y2\",\n",
        "    \"center_x\", \"center_y\"\n",
        "])\n",
        "\n",
        "# ===== 프레임별 탐지/트래킹 & 샘플링 =====\n",
        "orig_frame = 0\n",
        "new_frame  = 0\n",
        "while True:\n",
        "    ret, frame = cap.read()\n",
        "    if not ret:\n",
        "        break\n",
        "\n",
        "    # YOLO로 탐지 수행\n",
        "    results = model.predict(source=frame, conf=0.1, verbose=False)\n",
        "    dets = []\n",
        "    for box in results[0].boxes:\n",
        "        x1, y1, x2, y2 = box.xyxy[0].cpu().numpy()\n",
        "        score = float(box.conf[0].cpu())\n",
        "        dets.append([x1, y1, x2 - x1, y2 - y1, score])\n",
        "\n",
        "    dets_array = np.array(dets, dtype=np.float32) if dets else np.zeros((0, 5), dtype=np.float32)\n",
        "\n",
        "    # ByteTracker 업데이트\n",
        "    online_targets = tracker.update(\n",
        "        dets_array,\n",
        "        (height, width),\n",
        "        (height, width)\n",
        "    )\n",
        "\n",
        "    # 샘플링된 프레임만 저장/기록\n",
        "    if orig_frame % interval == 0:\n",
        "        time_sec = orig_frame / orig_fps\n",
        "        for t in online_targets:\n",
        "            x1, y1, x2, y2 = map(int, t.tlbr)\n",
        "            tid = t.track_id\n",
        "            cx = (x1 + x2) / 2\n",
        "            cy = (y1 + y2) / 2\n",
        "            csv_writer.writerow([\n",
        "                orig_frame, new_frame, time_sec,\n",
        "                tid, x1, y1, x2, y2, cx, cy\n",
        "            ])\n",
        "        out.write(frame)\n",
        "        new_frame += 1\n",
        "\n",
        "    orig_frame += 1\n",
        "\n",
        "# ===== 정리 =====\n",
        "cap.release()\n",
        "out.release()\n",
        "csv_file.close()\n",
        "print(f\"✅ 완료! {OUTPUT_VIDEO} 및 {CSV_OUTPUT} 생성됨 (샘플링 간격: {interval}).\")\n"
      ],
      "metadata": {
        "id": "5B_7MVHhuio1",
        "colab": {
          "base_uri": "https://localhost:8080/"
        },
        "outputId": "fe7a10cc-984d-44c6-fa7d-b306943400bf"
      },
      "execution_count": null,
      "outputs": [
        {
          "output_type": "stream",
          "name": "stdout",
          "text": [
            "✅ 완료! /content/output_2fps_tracked.mp4 및 /content/tracking_coords.csv 생성됨 (샘플링 간격: 12).\n"
          ]
        }
      ]
    },
    {
      "cell_type": "code",
      "source": [],
      "metadata": {
        "id": "qaTapol2d4DC"
      },
      "execution_count": null,
      "outputs": []
    }
  ]
}